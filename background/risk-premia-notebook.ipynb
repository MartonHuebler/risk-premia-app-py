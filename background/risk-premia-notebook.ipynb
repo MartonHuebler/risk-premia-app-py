{
 "cells": [
  {
   "cell_type": "markdown",
   "metadata": {},
   "source": [
    "# Risk Premia Strategy Notebook\n",
    "\n",
    "This notebook documents the initial data exploration for the Risk Premia Strategy app.\n",
    "\n",
    "Pull data from local files (originally from BigQuery)"
   ]
  },
  {
   "cell_type": "code",
   "execution_count": null,
   "metadata": {},
   "outputs": [],
   "source": "import pandas as pd\nimport numpy as np\nimport matplotlib.pyplot as plt\nimport seaborn as sns\nimport pyreadr\nfrom pathlib import Path\n\n# Set plotting style\nplt.style.use('seaborn-v0_8-darkgrid')\nsns.set_palette('husl')\n\n# Load prices from RData file\ndata_path = Path('..') / 'data' / 'prices.RData'\nresult = pyreadr.read_r(str(data_path))\nprices = result['us_etf_prices']  # Extract the dataframe\n\n# Convert date column to datetime\nprices['date'] = pd.to_datetime(prices['date'])\n\nprint(f\"Loaded {len(prices)} rows of price data\")\nprices.head()"
  },
  {
   "cell_type": "markdown",
   "metadata": {},
   "source": [
    "## Plot Unadjusted Prices"
   ]
  },
  {
   "cell_type": "code",
   "execution_count": null,
   "metadata": {},
   "outputs": [],
   "source": [
    "plt.figure(figsize=(12, 6))\n",
    "for ticker in prices['ticker'].unique():\n",
    "    ticker_data = prices[prices['ticker'] == ticker]\n",
    "    plt.plot(ticker_data['date'], ticker_data['close'], label=ticker)\n",
    "\n",
    "plt.xlabel('Date')\n",
    "plt.ylabel('Close Price')\n",
    "plt.title('Unadjusted Prices')\n",
    "plt.legend()\n",
    "plt.xticks(rotation=45)\n",
    "plt.tight_layout()\n",
    "plt.show()"
   ]
  },
  {
   "cell_type": "markdown",
   "metadata": {},
   "source": [
    "## Calculate Cumulative Returns\n",
    "\n",
    "Calculate total returns including dividends and create adjusted prices"
   ]
  },
  {
   "cell_type": "code",
   "execution_count": null,
   "metadata": {},
   "outputs": [],
   "source": [
    "# Calculate total returns including dividends\n",
    "totalreturns = prices.copy()\n",
    "totalreturns = totalreturns.sort_values('date')\n",
    "\n",
    "# Group by ticker and calculate returns\n",
    "totalreturns['totalreturns'] = totalreturns.groupby('ticker').apply(\n",
    "    lambda x: ((x['close'] + x['dividends']) / x['close'].shift(1)) - 1\n",
    ").reset_index(level=0, drop=True)\n",
    "\n",
    "# Drop NA values\n",
    "totalreturns = totalreturns.dropna(subset=['totalreturns'])\n",
    "\n",
    "# Calculate cumulative returns\n",
    "totalreturns['cumreturns'] = totalreturns.groupby('ticker')['totalreturns'].apply(\n",
    "    lambda x: (1 + x).cumprod()\n",
    ").reset_index(level=0, drop=True)\n",
    "\n",
    "# Calculate adjustment ratios to get adjusted close prices\n",
    "adjratios = totalreturns.groupby('ticker').apply(\n",
    "    lambda x: pd.Series({\n",
    "        'date': x['date'].max(),\n",
    "        'close': x.loc[x['date'].idxmax(), 'close'],\n",
    "        'cumreturns': x.loc[x['date'].idxmax(), 'cumreturns']\n",
    "    })\n",
    ").reset_index()\n",
    "\n",
    "adjratios['ratio'] = adjratios['close'] / adjratios['cumreturns']\n",
    "adjratios = adjratios[['ticker', 'ratio']]\n",
    "\n",
    "# Merge and calculate adjusted close\n",
    "returns = totalreturns.merge(adjratios, on='ticker')\n",
    "returns['adjclose'] = returns['cumreturns'] * returns['ratio']\n",
    "\n",
    "print(\"Calculated returns and adjusted prices\")\n",
    "returns.head()"
   ]
  },
  {
   "cell_type": "markdown",
   "metadata": {},
   "source": [
    "## Plot Cumulative Returns"
   ]
  },
  {
   "cell_type": "code",
   "execution_count": null,
   "metadata": {},
   "outputs": [],
   "source": [
    "plt.figure(figsize=(12, 6))\n",
    "for ticker in returns['ticker'].unique():\n",
    "    ticker_data = returns[returns['ticker'] == ticker]\n",
    "    plt.plot(ticker_data['date'], ticker_data['cumreturns'], label=ticker)\n",
    "\n",
    "plt.xlabel('Date')\n",
    "plt.ylabel('Cumulative Returns')\n",
    "plt.title('Cumulative Returns from Manual Calculation')\n",
    "plt.legend()\n",
    "plt.xticks(rotation=45)\n",
    "plt.tight_layout()\n",
    "plt.show()"
   ]
  },
  {
   "cell_type": "markdown",
   "metadata": {},
   "source": [
    "## Compare with Pre-Adjusted Prices\n",
    "\n",
    "Compare our calculated returns with the pre-adjusted prices in the dataset"
   ]
  },
  {
   "cell_type": "code",
   "execution_count": null,
   "metadata": {},
   "outputs": [],
   "source": [
    "# Calculate returns from closeadjusted column\n",
    "p = prices.copy()\n",
    "p = p.sort_values('date')\n",
    "p['totalreturns'] = p.groupby('ticker')['closeadjusted'].pct_change()\n",
    "p = p.dropna(subset=['totalreturns'])\n",
    "p['cumreturns'] = p.groupby('ticker')['totalreturns'].apply(\n",
    "    lambda x: (1 + x).cumprod()\n",
    ").reset_index(level=0, drop=True)\n",
    "\n",
    "# Plot comparison\n",
    "plt.figure(figsize=(12, 6))\n",
    "for ticker in p['ticker'].unique():\n",
    "    ticker_data = p[p['ticker'] == ticker]\n",
    "    plt.plot(ticker_data['date'], ticker_data['cumreturns'], label=ticker)\n",
    "\n",
    "plt.xlabel('Date')\n",
    "plt.ylabel('Cumulative Returns')\n",
    "plt.title('Cumulative Returns from Pre-Adjusted Prices')\n",
    "plt.legend()\n",
    "plt.xticks(rotation=45)\n",
    "plt.tight_layout()\n",
    "plt.show()\n",
    "\n",
    "# Plot difference for GLD\n",
    "gld_manual = returns[returns['ticker'] == 'GLD'][['date', 'totalreturns']].rename(columns={'totalreturns': 'manual'})\n",
    "gld_adjusted = p[p['ticker'] == 'GLD'][['date', 'totalreturns']].rename(columns={'totalreturns': 'adjusted'})\n",
    "gld_comparison = gld_manual.merge(gld_adjusted, on='date')\n",
    "gld_comparison['diff'] = gld_comparison['manual'] - gld_comparison['adjusted']\n",
    "\n",
    "plt.figure(figsize=(12, 6))\n",
    "plt.plot(gld_comparison['date'], gld_comparison['diff'])\n",
    "plt.xlabel('Date')\n",
    "plt.ylabel('Difference')\n",
    "plt.title('GLD: Difference between Manual and Pre-Adjusted Returns')\n",
    "plt.xticks(rotation=45)\n",
    "plt.tight_layout()\n",
    "plt.show()"
   ]
  },
  {
   "cell_type": "markdown",
   "metadata": {},
   "source": [
    "## Validate Adjusted Prices\n",
    "\n",
    "Check that returns calculated from adjusted prices match total returns"
   ]
  },
  {
   "cell_type": "code",
   "execution_count": null,
   "metadata": {},
   "outputs": [],
   "source": [
    "# Calculate returns from our adjusted close\n",
    "check = returns.copy()\n",
    "check = check.sort_values(['ticker', 'date'])\n",
    "check['checkreturns'] = check.groupby('ticker')['adjclose'].pct_change()\n",
    "check['check'] = check['totalreturns'] - check['checkreturns']\n",
    "check = check.dropna(subset=['checkreturns'])\n",
    "\n",
    "# Plot the difference - should be very close to zero\n",
    "fig, axes = plt.subplots(len(check['ticker'].unique()), 1, figsize=(12, 10), sharex=True)\n",
    "if len(check['ticker'].unique()) == 1:\n",
    "    axes = [axes]\n",
    "\n",
    "for ax, ticker in zip(axes, sorted(check['ticker'].unique())):\n",
    "    ticker_data = check[check['ticker'] == ticker]\n",
    "    ax.plot(ticker_data['date'], ticker_data['check'])\n",
    "    ax.set_ylabel('Difference')\n",
    "    ax.set_title(ticker)\n",
    "    ax.tick_params(axis='x', rotation=45)\n",
    "\n",
    "plt.xlabel('Date')\n",
    "plt.suptitle('Validation: Difference between Total Returns and Adjusted Price Returns')\n",
    "plt.tight_layout()\n",
    "plt.show()"
   ]
  },
  {
   "cell_type": "markdown",
   "metadata": {},
   "source": [
    "# Equal Weighted Backtest\n",
    "\n",
    "Filter to the three main ETFs: VTI, GLD, TLT"
   ]
  },
  {
   "cell_type": "code",
   "execution_count": null,
   "metadata": {},
   "outputs": [],
   "source": [
    "etfprices = returns[returns['ticker'].isin(['VTI', 'GLD', 'TLT'])].copy()\n",
    "print(f\"Filtered to {len(etfprices)} rows for 3 ETFs\")\n",
    "etfprices.head()"
   ]
  },
  {
   "cell_type": "markdown",
   "metadata": {},
   "source": [
    "## Monthly Equal Weight Portfolio"
   ]
  },
  {
   "cell_type": "code",
   "execution_count": null,
   "metadata": {},
   "outputs": [],
   "source": [
    "# Calculate monthly returns for each ETF\n",
    "etfprices_monthly = etfprices.copy()\n",
    "etfprices_monthly['year_month'] = etfprices_monthly['date'].dt.to_period('M')\n",
    "\n",
    "# Get last day of each month\n",
    "monthly_data = etfprices_monthly.sort_values('date').groupby(['ticker', 'year_month']).last().reset_index()\n",
    "\n",
    "# Calculate monthly returns\n",
    "monthly_data = monthly_data.sort_values(['ticker', 'date'])\n",
    "monthly_data['return'] = monthly_data.groupby('ticker')['adjclose'].pct_change()\n",
    "\n",
    "# Equal weight portfolio: average of the three returns\n",
    "monthly_ew = monthly_data.groupby('date')['return'].apply(lambda x: (x * 1/3).sum()).reset_index()\n",
    "monthly_ew.columns = ['date', 'portfolio']\n",
    "monthly_ew = monthly_ew.dropna()\n",
    "\n",
    "print(\"Monthly equal-weight portfolio returns:\")\n",
    "monthly_ew.head()\n",
    "\n",
    "# Plot cumulative returns\n",
    "plt.figure(figsize=(12, 6))\n",
    "plt.plot(monthly_ew['date'], (1 + monthly_ew['portfolio']).cumprod())\n",
    "plt.xlabel('Date')\n",
    "plt.ylabel('Cumulative Returns')\n",
    "plt.title('Monthly Equal-Weight Portfolio Cumulative Returns')\n",
    "plt.xticks(rotation=45)\n",
    "plt.tight_layout()\n",
    "plt.show()\n",
    "\n",
    "# Calculate annualized performance metrics\n",
    "monthly_returns = monthly_ew['portfolio'].dropna()\n",
    "annual_return = (1 + monthly_returns.mean())**12 - 1\n",
    "annual_vol = monthly_returns.std() * np.sqrt(12)\n",
    "sharpe = annual_return / annual_vol\n",
    "\n",
    "print(f\"\\nAnnualized Return: {annual_return:.2%}\")\n",
    "print(f\"Annualized Volatility: {annual_vol:.2%}\")\n",
    "print(f\"Sharpe Ratio: {sharpe:.2f}\")"
   ]
  },
  {
   "cell_type": "markdown",
   "metadata": {},
   "source": [
    "## Daily Equal Weight Portfolio"
   ]
  },
  {
   "cell_type": "code",
   "execution_count": null,
   "metadata": {},
   "outputs": [],
   "source": [
    "# Daily equal weight: average daily returns\n",
    "daily_ew = etfprices.groupby('date')['totalreturns'].mean().reset_index()\n",
    "daily_ew.columns = ['date', 'portfolio']\n",
    "\n",
    "# Plot cumulative returns\n",
    "plt.figure(figsize=(12, 6))\n",
    "plt.plot(daily_ew['date'], (1 + daily_ew['portfolio']).cumprod())\n",
    "plt.xlabel('Date')\n",
    "plt.ylabel('Cumulative Returns')\n",
    "plt.title('Daily Equal-Weight Portfolio Cumulative Returns')\n",
    "plt.xticks(rotation=45)\n",
    "plt.tight_layout()\n",
    "plt.show()\n",
    "\n",
    "# Full period performance\n",
    "daily_returns = daily_ew['portfolio'].dropna()\n",
    "annual_return = (1 + daily_returns.mean())**252 - 1\n",
    "annual_vol = daily_returns.std() * np.sqrt(252)\n",
    "sharpe = annual_return / annual_vol\n",
    "\n",
    "print(f\"Full Period:\")\n",
    "print(f\"Annualized Return: {annual_return:.2%}\")\n",
    "print(f\"Annualized Volatility: {annual_vol:.2%}\")\n",
    "print(f\"Sharpe Ratio: {sharpe:.2f}\")\n",
    "\n",
    "# Performance from 2010 onwards\n",
    "daily_ew_2010 = daily_ew[daily_ew['date'] >= '2010-01-01'].copy()\n",
    "daily_returns_2010 = daily_ew_2010['portfolio'].dropna()\n",
    "annual_return_2010 = (1 + daily_returns_2010.mean())**252 - 1\n",
    "annual_vol_2010 = daily_returns_2010.std() * np.sqrt(252)\n",
    "sharpe_2010 = annual_return_2010 / annual_vol_2010\n",
    "\n",
    "print(f\"\\nFrom 2010-01-01:\")\n",
    "print(f\"Annualized Return: {annual_return_2010:.2%}\")\n",
    "print(f\"Annualized Volatility: {annual_vol_2010:.2%}\")\n",
    "print(f\"Sharpe Ratio: {sharpe_2010:.2f}\")"
   ]
  },
  {
   "cell_type": "markdown",
   "metadata": {},
   "source": [
    "# Volatility Targeting on Individual Assets\n",
    "\n",
    "Size each asset to a target volatility (5% annualized) using a rolling 60-day volatility estimate"
   ]
  },
  {
   "cell_type": "code",
   "execution_count": null,
   "metadata": {},
   "outputs": [],
   "source": [
    "vol_target = 0.05  # 5% annualized volatility target\n",
    "\n",
    "# Calculate rolling volatility and position sizing\n",
    "volsize = etfprices.copy()\n",
    "volsize = volsize.sort_values(['ticker', 'date'])\n",
    "\n",
    "# Calculate 60-day rolling volatility (annualized)\n",
    "volsize['vol20'] = volsize.groupby('ticker')['totalreturns'].transform(\n",
    "    lambda x: x.rolling(window=60, min_periods=60).std() * np.sqrt(252)\n",
    ")\n",
    "\n",
    "# Position size based on volatility target (lagged by 1 day)\n",
    "volsize['vol20size'] = (vol_target / volsize['vol20']).shift(1)\n",
    "volsize['vol20returns'] = volsize['vol20size'] * volsize['totalreturns']\n",
    "volsize = volsize.dropna()\n",
    "\n",
    "print(f\"Calculated volatility-based position sizing\")\n",
    "volsize.head()"
   ]
  },
  {
   "cell_type": "markdown",
   "metadata": {},
   "source": [
    "## Daily Rebalance with Volatility Targeting"
   ]
  },
  {
   "cell_type": "code",
   "execution_count": null,
   "metadata": {},
   "outputs": [],
   "source": [
    "# Sum across assets for each day\n",
    "volsizeportfolio = volsize.groupby('date')['vol20returns'].sum().reset_index()\n",
    "volsizeportfolio.columns = ['date', 'portfolio']\n",
    "\n",
    "# Plot cumulative returns\n",
    "plt.figure(figsize=(12, 6))\n",
    "plt.plot(volsizeportfolio['date'], (1 + volsizeportfolio['portfolio']).cumprod())\n",
    "plt.xlabel('Date')\n",
    "plt.ylabel('Cumulative Returns')\n",
    "plt.title('Daily Rebalanced Vol-Targeted Portfolio Cumulative Returns')\n",
    "plt.xticks(rotation=45)\n",
    "plt.tight_layout()\n",
    "plt.show()\n",
    "\n",
    "# Performance metrics\n",
    "vol_returns = volsizeportfolio['portfolio'].dropna()\n",
    "annual_return = (1 + vol_returns.mean())**252 - 1\n",
    "annual_vol = vol_returns.std() * np.sqrt(252)\n",
    "sharpe = annual_return / annual_vol\n",
    "\n",
    "print(f\"Full Period:\")\n",
    "print(f\"Annualized Return: {annual_return:.2%}\")\n",
    "print(f\"Annualized Volatility: {annual_vol:.2%}\")\n",
    "print(f\"Sharpe Ratio: {sharpe:.2f}\")\n",
    "\n",
    "# From 2010\n",
    "volsizeportfolio_2010 = volsizeportfolio[volsizeportfolio['date'] >= '2010-01-01'].copy()\n",
    "vol_returns_2010 = volsizeportfolio_2010['portfolio'].dropna()\n",
    "annual_return_2010 = (1 + vol_returns_2010.mean())**252 - 1\n",
    "annual_vol_2010 = vol_returns_2010.std() * np.sqrt(252)\n",
    "sharpe_2010 = annual_return_2010 / annual_vol_2010\n",
    "\n",
    "print(f\"\\nFrom 2010-01-01:\")\n",
    "print(f\"Annualized Return: {annual_return_2010:.2%}\")\n",
    "print(f\"Annualized Volatility: {annual_vol_2010:.2%}\")\n",
    "print(f\"Sharpe Ratio: {sharpe_2010:.2f}\")"
   ]
  },
  {
   "cell_type": "markdown",
   "metadata": {},
   "source": [
    "## Monthly Rebalance with Volatility Targeting"
   ]
  },
  {
   "cell_type": "code",
   "execution_count": null,
   "metadata": {},
   "outputs": [],
   "source": [
    "# Get monthly returns for each ticker\n",
    "volsize_monthly = volsize.copy()\n",
    "volsize_monthly['year_month'] = volsize_monthly['date'].dt.to_period('M')\n",
    "\n",
    "# Get last day of each month with vol sizing\n",
    "monthreturns = volsize_monthly.sort_values('date').groupby(['ticker', 'year_month']).last().reset_index()\n",
    "\n",
    "# Calculate monthly returns\n",
    "monthreturns = monthreturns.sort_values(['ticker', 'date'])\n",
    "monthreturns['return'] = monthreturns.groupby('ticker')['adjclose'].pct_change()\n",
    "monthreturns = monthreturns[['ticker', 'date', 'vol20size', 'return']].dropna()\n",
    "\n",
    "# Calculate adjustment factors to constrain total weight to 1\n",
    "adjustmentfactors = monthreturns.groupby('date')['vol20size'].sum().reset_index()\n",
    "adjustmentfactors.columns = ['date', 'totalweight']\n",
    "adjustmentfactors['adjfactor'] = np.where(\n",
    "    adjustmentfactors['totalweight'] > 1,\n",
    "    1 / adjustmentfactors['totalweight'],\n",
    "    1\n",
    ")\n",
    "\n",
    "# Apply adjustment factors\n",
    "monthstrategyreturns = monthreturns.merge(adjustmentfactors, on='date')\n",
    "monthstrategyreturns['constrainedsize'] = monthstrategyreturns['vol20size'] * monthstrategyreturns['adjfactor']\n",
    "monthstrategyreturns['weightedreturn'] = monthstrategyreturns['constrainedsize'] * monthstrategyreturns['return']\n",
    "\n",
    "# Sum to get portfolio returns\n",
    "month_rebal = monthstrategyreturns.groupby('date')['weightedreturn'].sum().reset_index()\n",
    "month_rebal.columns = ['date', 'portfolio']\n",
    "\n",
    "# Plot from 2010\n",
    "month_rebal_2010 = month_rebal[month_rebal['date'] >= '2010-01-01'].copy()\n",
    "plt.figure(figsize=(12, 6))\n",
    "plt.plot(month_rebal_2010['date'], (1 + month_rebal_2010['portfolio']).cumprod())\n",
    "plt.xlabel('Date')\n",
    "plt.ylabel('Cumulative Returns')\n",
    "plt.title('Monthly Rebalanced Vol-Targeted Portfolio (from 2010)')\n",
    "plt.xticks(rotation=45)\n",
    "plt.tight_layout()\n",
    "plt.show()\n",
    "\n",
    "# Performance metrics - full period\n",
    "month_returns = month_rebal['portfolio'].dropna()\n",
    "annual_return = (1 + month_returns.mean())**12 - 1\n",
    "annual_vol = month_returns.std() * np.sqrt(12)\n",
    "sharpe = annual_return / annual_vol\n",
    "\n",
    "print(f\"Full Period:\")\n",
    "print(f\"Annualized Return: {annual_return:.2%}\")\n",
    "print(f\"Annualized Volatility: {annual_vol:.2%}\")\n",
    "print(f\"Sharpe Ratio: {sharpe:.2f}\")\n",
    "\n",
    "# From 2010\n",
    "month_returns_2010 = month_rebal_2010['portfolio'].dropna()\n",
    "annual_return_2010 = (1 + month_returns_2010.mean())**12 - 1\n",
    "annual_vol_2010 = month_returns_2010.std() * np.sqrt(12)\n",
    "sharpe_2010 = annual_return_2010 / annual_vol_2010\n",
    "\n",
    "print(f\"\\nFrom 2010-01-01:\")\n",
    "print(f\"Annualized Return: {annual_return_2010:.2%}\")\n",
    "print(f\"Annualized Volatility: {annual_vol_2010:.2%}\")\n",
    "print(f\"Sharpe Ratio: {sharpe_2010:.2f}\")\n",
    "\n",
    "# Plot total weight over time\n",
    "totalweights = monthstrategyreturns.groupby('date')['constrainedsize'].sum().reset_index()\n",
    "plt.figure(figsize=(12, 6))\n",
    "plt.plot(totalweights['date'], totalweights['constrainedsize'])\n",
    "plt.xlabel('Date')\n",
    "plt.ylabel('Total Weight')\n",
    "plt.title('Total Portfolio Weight Over Time')\n",
    "plt.axhline(y=1, color='r', linestyle='--', label='Max Weight')\n",
    "plt.legend()\n",
    "plt.xticks(rotation=45)\n",
    "plt.tight_layout()\n",
    "plt.show()"
   ]
  },
  {
   "cell_type": "markdown",
   "metadata": {},
   "source": [
    "## Export Portfolio Returns\n",
    "\n",
    "Save the monthly rebalanced portfolio returns from 2010 onwards"
   ]
  },
  {
   "cell_type": "code",
   "execution_count": null,
   "metadata": {},
   "outputs": [],
   "source": [
    "import pickle\n",
    "\n",
    "# Prepare data for export\n",
    "dump = month_rebal[month_rebal['date'] >= '2010-01-01'].copy()\n",
    "dump['date'] = dump['date'].dt.to_period('M').dt.to_timestamp()\n",
    "\n",
    "# Save as pickle (Python equivalent of RDS)\n",
    "output_path = Path('..') / 'data' / 'rp-returns-7vol.pkl'\n",
    "with open(output_path, 'wb') as f:\n",
    "    pickle.dump(dump, f)\n",
    "\n",
    "print(f\"Saved portfolio returns to {output_path}\")\n",
    "dump.head()"
   ]
  },
  {
   "cell_type": "markdown",
   "metadata": {},
   "source": [
    "# Scatterplot Analysis\n",
    "\n",
    "## Monthly Returns vs Past Month Returns"
   ]
  },
  {
   "cell_type": "code",
   "execution_count": null,
   "metadata": {},
   "outputs": [],
   "source": [
    "# Add lagged returns\n",
    "scatter_data = monthreturns.copy()\n",
    "scatter_data['pastreturns'] = scatter_data.groupby('ticker')['return'].shift(1)\n",
    "scatter_data = scatter_data.dropna()\n",
    "\n",
    "# Create faceted scatterplot\n",
    "fig, axes = plt.subplots(1, 3, figsize=(15, 5))\n",
    "for ax, ticker in zip(axes, sorted(scatter_data['ticker'].unique())):\n",
    "    ticker_data = scatter_data[scatter_data['ticker'] == ticker]\n",
    "    ax.scatter(ticker_data['pastreturns'], ticker_data['return'], alpha=0.6)\n",
    "    ax.set_xlabel('Past Month Returns')\n",
    "    ax.set_ylabel('Current Month Returns')\n",
    "    ax.set_title(ticker)\n",
    "    ax.grid(True, alpha=0.3)\n",
    "    \n",
    "    # Add a reference line at y=0 and x=0\n",
    "    ax.axhline(y=0, color='r', linestyle='--', alpha=0.3)\n",
    "    ax.axvline(x=0, color='r', linestyle='--', alpha=0.3)\n",
    "\n",
    "plt.suptitle('Monthly Returns vs Past Month Returns')\n",
    "plt.tight_layout()\n",
    "plt.show()"
   ]
  },
  {
   "cell_type": "markdown",
   "metadata": {},
   "source": [
    "## Volatility vs Past Month Volatility"
   ]
  },
  {
   "cell_type": "code",
   "execution_count": null,
   "metadata": {},
   "outputs": [],
   "source": [
    "# Calculate volatility from vol size\n",
    "vol_scatter = monthreturns.copy()\n",
    "vol_scatter['vol20'] = vol_target / vol_scatter['vol20size']\n",
    "vol_scatter['pastvol20'] = vol_scatter.groupby('ticker')['vol20'].shift(1)\n",
    "vol_scatter = vol_scatter.dropna()\n",
    "\n",
    "# Create faceted scatterplot\n",
    "fig, axes = plt.subplots(1, 3, figsize=(15, 5))\n",
    "for ax, ticker in zip(axes, sorted(vol_scatter['ticker'].unique())):\n",
    "    ticker_data = vol_scatter[vol_scatter['ticker'] == ticker]\n",
    "    ax.scatter(ticker_data['pastvol20'], ticker_data['vol20'], alpha=0.6)\n",
    "    ax.set_xlabel('Past Month Volatility')\n",
    "    ax.set_ylabel('Current Month Volatility')\n",
    "    ax.set_title(ticker)\n",
    "    ax.grid(True, alpha=0.3)\n",
    "    \n",
    "    # Add diagonal line for reference\n",
    "    lims = [\n",
    "        np.min([ax.get_xlim(), ax.get_ylim()]),\n",
    "        np.max([ax.get_xlim(), ax.get_ylim()]),\n",
    "    ]\n",
    "    ax.plot(lims, lims, 'r--', alpha=0.3, zorder=0)\n",
    "\n",
    "plt.suptitle('Volatility vs Past Month Volatility')\n",
    "plt.tight_layout()\n",
    "plt.show()"
   ]
  }
 ],
 "metadata": {
  "kernelspec": {
   "display_name": "Python 3",
   "language": "python",
   "name": "python3"
  },
  "language_info": {
   "codemirror_mode": {
    "name": "ipython",
    "version": 3
   },
   "file_extension": ".py",
   "mimetype": "text/x-python",
   "name": "python",
   "nbconvert_exporter": "python",
   "pygments_lexer": "ipython3",
   "version": "3.9.0"
  }
 },
 "nbformat": 4,
 "nbformat_minor": 4
}